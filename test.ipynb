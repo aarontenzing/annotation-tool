{
 "cells": [
  {
   "cell_type": "code",
   "execution_count": 1,
   "metadata": {},
   "outputs": [],
   "source": [
    "import numpy as np\n",
    "from math import asin, atan2, degrees\n",
    "\n",
    "# Given orientation matrix\n",
    "orientation = np.array([[0.11104887, -0.96771416, 0.22626853],\n",
    "                        [0.91893931, 0.01328672, -0.3941751],\n",
    "                        [0.37844246, 0.25169974, 0.89074606]])"
   ]
  },
  {
   "cell_type": "code",
   "execution_count": 4,
   "metadata": {},
   "outputs": [
    {
     "name": "stdout",
     "output_type": "stream",
     "text": [
      "R11:  -0.96771416\n"
     ]
    }
   ],
   "source": [
    "# Extract individual elements\n",
    "R11, R21, R31 = orientation[0]\n",
    "\n",
    "\n",
    "\n",
    "print(\"R11: \", R21S)"
   ]
  },
  {
   "cell_type": "code",
   "execution_count": null,
   "metadata": {},
   "outputs": [],
   "source": []
  }
 ],
 "metadata": {
  "kernelspec": {
   "display_name": "Python 3",
   "language": "python",
   "name": "python3"
  },
  "language_info": {
   "codemirror_mode": {
    "name": "ipython",
    "version": 3
   },
   "file_extension": ".py",
   "mimetype": "text/x-python",
   "name": "python",
   "nbconvert_exporter": "python",
   "pygments_lexer": "ipython3",
   "version": "3.11.6"
  }
 },
 "nbformat": 4,
 "nbformat_minor": 2
}
